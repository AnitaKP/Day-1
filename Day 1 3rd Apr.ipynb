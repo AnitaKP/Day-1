{
 "cells": [
  {
   "cell_type": "markdown",
   "id": "67efa20f-1967-49a9-aac7-e12e225fa54b",
   "metadata": {},
   "source": [
    "#This is to print how I feel today"
   ]
  },
  {
   "cell_type": "code",
   "execution_count": 12,
   "id": "ea227dfb-ea99-4d54-8ac1-95552b063b8c",
   "metadata": {},
   "outputs": [
    {
     "name": "stdout",
     "output_type": "stream",
     "text": [
      "I feel great\n"
     ]
    }
   ],
   "source": [
    "print(\"I feel great\")"
   ]
  },
  {
   "cell_type": "code",
   "execution_count": 14,
   "id": "4f597ee0-76d0-4307-8db3-8d221c571b0a",
   "metadata": {},
   "outputs": [
    {
     "name": "stdout",
     "output_type": "stream",
     "text": [
      "It is a good learning day\n"
     ]
    }
   ],
   "source": [
    "print(\"It is a good learning day\")"
   ]
  },
  {
   "cell_type": "code",
   "execution_count": 15,
   "id": "e4776e30-a3ab-4ce3-88f4-c7315ae0d318",
   "metadata": {},
   "outputs": [
    {
     "data": {
      "text/plain": [
       "35"
      ]
     },
     "execution_count": 15,
     "metadata": {},
     "output_type": "execute_result"
    }
   ],
   "source": [
    "5*7"
   ]
  },
  {
   "cell_type": "code",
   "execution_count": 17,
   "id": "b9024b81-40f6-448e-9d60-bb257c898772",
   "metadata": {},
   "outputs": [
    {
     "data": {
      "text/plain": [
       "'Hello Hello Hello Hello Hello '"
      ]
     },
     "execution_count": 17,
     "metadata": {},
     "output_type": "execute_result"
    }
   ],
   "source": [
    "\"Hello \"*5"
   ]
  },
  {
   "cell_type": "code",
   "execution_count": 18,
   "id": "b894cc69-9a49-4307-9b2b-481be064d8b1",
   "metadata": {},
   "outputs": [
    {
     "data": {
      "text/plain": [
       "'it is a beautiful day'"
      ]
     },
     "execution_count": 18,
     "metadata": {},
     "output_type": "execute_result"
    }
   ],
   "source": [
    "\"it is a beautiful day\""
   ]
  },
  {
   "cell_type": "code",
   "execution_count": 20,
   "id": "d7064e7a-a709-45bf-8ea3-1c990d68012b",
   "metadata": {},
   "outputs": [
    {
     "name": "stdout",
     "output_type": "stream",
     "text": [
      "Hello\n"
     ]
    }
   ],
   "source": [
    "print(\"Hello\")"
   ]
  },
  {
   "cell_type": "code",
   "execution_count": null,
   "id": "556c25a6-f30e-4289-8624-b41f229a9095",
   "metadata": {},
   "outputs": [
    {
     "name": "stdout",
     "output_type": "stream",
     "text": [
      "Welcome to Python 3.11's help utility! If this is your first time using\n",
      "Python, you should definitely check out the tutorial at\n",
      "https://docs.python.org/3.11/tutorial/.\n",
      "\n",
      "Enter the name of any module, keyword, or topic to get help on writing\n",
      "Python programs and using Python modules.  To get a list of available\n",
      "modules, keywords, symbols, or topics, enter \"modules\", \"keywords\",\n",
      "\"symbols\", or \"topics\".\n",
      "\n",
      "Each module also comes with a one-line summary of what it does; to list\n",
      "the modules whose name or summary contain a given string such as \"spam\",\n",
      "enter \"modules spam\".\n",
      "\n",
      "To quit this help utility and return to the interpreter,\n",
      "enter \"q\" or \"quit\".\n",
      "\n"
     ]
    }
   ],
   "source": [
    "help()"
   ]
  },
  {
   "cell_type": "code",
   "execution_count": null,
   "id": "2ea4433f-5eff-4697-9747-fde0fe2e9088",
   "metadata": {},
   "outputs": [],
   "source": [
    "modules"
   ]
  }
 ],
 "metadata": {
  "kernelspec": {
   "display_name": "Python 3 (ipykernel)",
   "language": "python",
   "name": "python3"
  },
  "language_info": {
   "codemirror_mode": {
    "name": "ipython",
    "version": 3
   },
   "file_extension": ".py",
   "mimetype": "text/x-python",
   "name": "python",
   "nbconvert_exporter": "python",
   "pygments_lexer": "ipython3",
   "version": "3.11.7"
  }
 },
 "nbformat": 4,
 "nbformat_minor": 5
}
